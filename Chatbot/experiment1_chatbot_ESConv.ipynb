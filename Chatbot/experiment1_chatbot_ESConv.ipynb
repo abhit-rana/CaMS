{
  "cells": [
    {
      "cell_type": "markdown",
      "metadata": {
        "id": "view-in-github",
        "colab_type": "text"
      },
      "source": [
        "<a href=\"https://colab.research.google.com/github/abhit-rana/CaMS/blob/main/Chatbot/experiment1_chatbot_ESConv.ipynb\" target=\"_parent\"><img src=\"https://colab.research.google.com/assets/colab-badge.svg\" alt=\"Open In Colab\"/></a>"
      ]
    },
    {
      "cell_type": "code",
      "execution_count": null,
      "metadata": {
        "colab": {
          "base_uri": "https://localhost:8080/"
        },
        "id": "-c3ahOUInd2T",
        "outputId": "fba081e0-d742-48f2-e83f-097caf758e1a"
      },
      "outputs": [
        {
          "name": "stdout",
          "output_type": "stream",
          "text": [
            "Mounted at /content/gdrive\n"
          ]
        }
      ],
      "source": [
        "from google.colab import drive\n",
        "drive.mount('/content/gdrive')"
      ]
    },
    {
      "cell_type": "markdown",
      "metadata": {
        "id": "d7mGmmTwpCZF"
      },
      "source": [
        "#ESConv Dataset"
      ]
    },
    {
      "cell_type": "code",
      "execution_count": null,
      "metadata": {
        "id": "pkWtyTIMo8Zq"
      },
      "outputs": [],
      "source": [
        "import json\n",
        "import csv"
      ]
    },
    {
      "cell_type": "code",
      "execution_count": null,
      "metadata": {
        "id": "dwHXFKbhWcMK"
      },
      "outputs": [],
      "source": [
        "with open('/content/gdrive/MyDrive/hackathon/data/ESConv/ESConv.json') as json_file:\n",
        "    json_data = json.load(json_file)"
      ]
    },
    {
      "cell_type": "code",
      "execution_count": null,
      "metadata": {
        "id": "4fSuF1hycRRC"
      },
      "outputs": [],
      "source": [
        "json_data[0]"
      ]
    },
    {
      "cell_type": "code",
      "execution_count": null,
      "metadata": {
        "colab": {
          "base_uri": "https://localhost:8080/"
        },
        "id": "iOFPOjgolAxT",
        "outputId": "89fc9d79-2278-40bf-e3b0-a9eed4b26099"
      },
      "outputs": [
        {
          "data": {
            "text/plain": [
              "[{'speaker': 'supporter',\n",
              "  'annotation': {'strategy': 'Question'},\n",
              "  'content': 'Hello how are you?'},\n",
              " {'speaker': 'seeker',\n",
              "  'annotation': {},\n",
              "  'content': 'hello im looking for someone to talk to '},\n",
              " {'speaker': 'seeker', 'annotation': {}, 'content': 'im fine how are you\\n'},\n",
              " {'speaker': 'supporter',\n",
              "  'annotation': {'strategy': 'Question'},\n",
              "  'content': \"I'm doing ok I'm glad you are good. Is it snowing by you?\"},\n",
              " {'speaker': 'supporter',\n",
              "  'annotation': {'strategy': 'Others'},\n",
              "  'content': 'Merry Christmas!'},\n",
              " {'speaker': 'seeker',\n",
              "  'annotation': {'feedback': '4'},\n",
              "  'content': 'thats great and no its not snowing its very cold thow\\n'},\n",
              " {'speaker': 'seeker',\n",
              "  'annotation': {},\n",
              "  'content': 'merry christmas to you also \\n'},\n",
              " {'speaker': 'supporter',\n",
              "  'annotation': {'strategy': 'Question'},\n",
              "  'content': 'How can I help you today?'},\n",
              " {'speaker': 'seeker',\n",
              "  'annotation': {},\n",
              "  'content': 'im having some issues with friends not actually being friends\\n'},\n",
              " {'speaker': 'supporter',\n",
              "  'annotation': {'strategy': 'Restatement or Paraphrasing'},\n",
              "  'content': \"I hear you are having trouble figuring out which friends are really your friends and which ones aren't. Is that about right?\"},\n",
              " {'speaker': 'seeker', 'annotation': {'feedback': '5'}, 'content': 'yes\\n'},\n",
              " {'speaker': 'supporter',\n",
              "  'annotation': {'strategy': 'Question'},\n",
              "  'content': 'I understand that... Did something happen that makes you feel like that?'},\n",
              " {'speaker': 'seeker',\n",
              "  'annotation': {},\n",
              "  'content': 'yes their is no communication or interaction between me and them nobody answers phone calls txt messages etc\\n '},\n",
              " {'speaker': 'supporter',\n",
              "  'annotation': {'strategy': 'Question'},\n",
              "  'content': 'Is this a significant other?'},\n",
              " {'speaker': 'seeker',\n",
              "  'annotation': {'feedback': '4'},\n",
              "  'content': 'no friends\\n'},\n",
              " {'speaker': 'supporter',\n",
              "  'annotation': {'strategy': 'Question'},\n",
              "  'content': 'Are they ignoring you?'},\n",
              " {'speaker': 'seeker',\n",
              "  'annotation': {},\n",
              "  'content': 'when we where younger we all hung out all the time now that we are older its like they talk with each other im not sure if i did anything or not '},\n",
              " {'speaker': 'supporter',\n",
              "  'annotation': {'strategy': 'Question'},\n",
              "  'content': 'Are you sure they are okay? Or not away with family for the holidays?'},\n",
              " {'speaker': 'seeker',\n",
              "  'annotation': {'feedback': '5'},\n",
              "  'content': 'it doesnt matter they still keep open communication with each other  '},\n",
              " {'speaker': 'supporter',\n",
              "  'annotation': {'strategy': 'Affirmation and Reassurance'},\n",
              "  'content': \"That's no good what do you think the problem is?\"},\n",
              " {'speaker': 'seeker',\n",
              "  'annotation': {},\n",
              "  'content': 'I believe its because I am the friend that has financial trouble and normally needs to borrow money '},\n",
              " {'speaker': 'supporter',\n",
              "  'annotation': {'strategy': 'Question'},\n",
              "  'content': 'Do you owe someone already?'},\n",
              " {'speaker': 'seeker',\n",
              "  'annotation': {'feedback': '5'},\n",
              "  'content': 'no anything i owe i always pay back '},\n",
              " {'speaker': 'seeker',\n",
              "  'annotation': {},\n",
              "  'content': 'perhaps they are tired of being asked '},\n",
              " {'speaker': 'supporter',\n",
              "  'annotation': {'strategy': 'Affirmation and Reassurance'},\n",
              "  'content': 'That can get in the way of a friendship sometimes, but I try not to get ahead of myself and  jump the gun. They may have lost a phone or something may have come up...'},\n",
              " {'speaker': 'supporter',\n",
              "  'annotation': {'strategy': 'Reflection of feelings'},\n",
              "  'content': 'That very well could be... Are you working?'},\n",
              " {'speaker': 'seeker',\n",
              "  'annotation': {'feedback': '5'},\n",
              "  'content': 'no im not currently '},\n",
              " {'speaker': 'seeker',\n",
              "  'annotation': {},\n",
              "  'content': \"I also think sometimes to myself that they don't answer because they think I'm asking for money\"},\n",
              " {'speaker': 'supporter',\n",
              "  'annotation': {'strategy': 'Affirmation and Reassurance'},\n",
              "  'content': 'I see, Have you tried for unemployment?'},\n",
              " {'speaker': 'seeker', 'annotation': {}, 'content': 'yes i dont qualify'},\n",
              " {'speaker': 'supporter',\n",
              "  'annotation': {'strategy': 'Providing Suggestions'},\n",
              "  'content': 'I understand that. What if that is the case? You may need to talk to them and let them know how you feel about that.'},\n",
              " {'speaker': 'supporter',\n",
              "  'annotation': {'strategy': 'Question'},\n",
              "  'content': 'How long has this been going on?'},\n",
              " {'speaker': 'seeker',\n",
              "  'annotation': {'feedback': '4'},\n",
              "  'content': \"I'm nervous about asking them why \"},\n",
              " {'speaker': 'seeker',\n",
              "  'annotation': {},\n",
              "  'content': 'and it happens on and off like when they feel lie it i guess i will say maybe 4 months'},\n",
              " {'speaker': 'supporter',\n",
              "  'annotation': {'strategy': 'Providing Suggestions'},\n",
              "  'content': 'I understand that, but if you want to get to a point that you feel better about it then you will have to speak to them.'},\n",
              " {'speaker': 'seeker',\n",
              "  'annotation': {},\n",
              "  'content': 'yes i know i hope everything be immediately resolved and not lead into other problems and end of friendshps'},\n",
              " {'speaker': 'supporter',\n",
              "  'annotation': {'strategy': 'Providing Suggestions'},\n",
              "  'content': 'Do you see them everyday?'},\n",
              " {'speaker': 'supporter',\n",
              "  'annotation': {'strategy': 'Restatement or Paraphrasing'},\n",
              "  'content': 'I understand that, are you able to go over there.'},\n",
              " {'speaker': 'seeker',\n",
              "  'annotation': {'feedback': '5'},\n",
              "  'content': 'no i dont live in the same city anymore'},\n",
              " {'speaker': 'seeker',\n",
              "  'annotation': {},\n",
              "  'content': 'when i go out of town i can visit but with covid19  rules'},\n",
              " {'speaker': 'supporter',\n",
              "  'annotation': {'strategy': 'Affirmation and Reassurance'},\n",
              "  'content': 'Well I can see that you have put the effort in to try and keep the relationship so it sounds like the ball is in their court if they want to do the same.'},\n",
              " {'speaker': 'seeker', 'annotation': {}, 'content': 'yes '},\n",
              " {'speaker': 'supporter',\n",
              "  'annotation': {'strategy': 'Providing Suggestions'},\n",
              "  'content': 'Well that is about all that can be done and wait for them to come around...Do you have  any hobbies?'},\n",
              " {'speaker': 'seeker',\n",
              "  'annotation': {'feedback': '5'},\n",
              "  'content': 'yes i like to read and play music '},\n",
              " {'speaker': 'supporter',\n",
              "  'annotation': {'strategy': 'Providing Suggestions'},\n",
              "  'content': 'I like to go on runs every morning. It helps to clear my mind and makes it easier to brush things off when they bother me.'},\n",
              " {'speaker': 'supporter',\n",
              "  'annotation': {'strategy': 'Question'},\n",
              "  'content': 'What instrument do you play?'},\n",
              " {'speaker': 'seeker',\n",
              "  'annotation': {'feedback': '5'},\n",
              "  'content': 'my sister goes on runs in the morning time and says it relax her for the day i think i migh'},\n",
              " {'speaker': 'seeker',\n",
              "  'annotation': {},\n",
              "  'content': 'i played the piano when i was in highschool'},\n",
              " {'speaker': 'supporter',\n",
              "  'annotation': {'strategy': 'Restatement or Paraphrasing'},\n",
              "  'content': \"It is a really good stress reliever. I played when I  was younger, didn't ever get very good. Did you?\"},\n",
              " {'speaker': 'seeker',\n",
              "  'annotation': {},\n",
              "  'content': \"no i didn't i had to stop because i have what the doctors call a trigger finger it caused great pain when i would practice \"},\n",
              " {'speaker': 'supporter',\n",
              "  'annotation': {'strategy': 'Reflection of feelings'},\n",
              "  'content': 'Hmm, well maybe take some more lessons, We can always strive to be better at everything we do.'},\n",
              " {'speaker': 'seeker',\n",
              "  'annotation': {'feedback': '5'},\n",
              "  'content': 'yes that is true'},\n",
              " {'speaker': 'supporter',\n",
              "  'annotation': {'strategy': 'Providing Suggestions'},\n",
              "  'content': 'Maybe take a run in order to clear your mind.'},\n",
              " {'speaker': 'supporter',\n",
              "  'annotation': {'strategy': 'Others'},\n",
              "  'content': \"I'm sure they will come around.\"},\n",
              " {'speaker': 'seeker',\n",
              "  'annotation': {'feedback': '5'},\n",
              "  'content': 'i think i would start off walking i am not in shape to run'},\n",
              " {'speaker': 'seeker',\n",
              "  'annotation': {},\n",
              "  'content': 'yes i will give them time maybe stop reaching out so much'},\n",
              " {'speaker': 'supporter',\n",
              "  'annotation': {'strategy': 'Others'},\n",
              "  'content': 'That may be a good idea. Good talk'},\n",
              " {'speaker': 'seeker',\n",
              "  'annotation': {},\n",
              "  'content': 'yes thank you for talking with me and giving great advice'},\n",
              " {'speaker': 'supporter',\n",
              "  'annotation': {'strategy': 'Question'},\n",
              "  'content': 'to them and may find out that it was never anything against you'},\n",
              " {'speaker': 'seeker',\n",
              "  'annotation': {'feedback': '5'},\n",
              "  'content': 'yes maybe everyone is stressed at some level thanks to covid19'},\n",
              " {'speaker': 'supporter',\n",
              "  'annotation': {'strategy': 'Self-disclosure'},\n",
              "  'content': 'I sometimes get ahead of myself and try to figure out what is going on and thinking that it was something I did. You are right too. COVID has stressed everyone out to the max.'},\n",
              " {'speaker': 'supporter',\n",
              "  'annotation': {'strategy': 'Providing Suggestions'},\n",
              "  'content': 'It has been a crazy year I am glad that it is almost over.'},\n",
              " {'speaker': 'seeker',\n",
              "  'annotation': {'feedback': '5'},\n",
              "  'content': 'yes i hope next year bring blessings for everyone '},\n",
              " {'speaker': 'supporter',\n",
              "  'annotation': {'strategy': 'Providing Suggestions'},\n",
              "  'content': \"I'm sure it will. Is there anything else I can help you with today?\"},\n",
              " {'speaker': 'seeker',\n",
              "  'annotation': {},\n",
              "  'content': 'no that was all thanks for speaking with me'},\n",
              " {'speaker': 'supporter',\n",
              "  'annotation': {'strategy': 'Others'},\n",
              "  'content': 'No problem, I hope everything works out for you and your friends. Have a great New Year!'},\n",
              " {'speaker': 'seeker',\n",
              "  'annotation': {'feedback': '5'},\n",
              "  'content': 'you to and thanks'},\n",
              " {'speaker': 'supporter',\n",
              "  'annotation': {'strategy': 'Others'},\n",
              "  'content': 'Good day!'},\n",
              " {'speaker': 'seeker', 'annotation': {}, 'content': 'good bye '}]"
            ]
          },
          "execution_count": 52,
          "metadata": {},
          "output_type": "execute_result"
        }
      ],
      "source": [
        "json_data[1]['dialog']"
      ]
    },
    {
      "cell_type": "code",
      "execution_count": null,
      "metadata": {
        "id": "txU_P20cgpox"
      },
      "outputs": [],
      "source": [
        "data_file1 = pd.read_csv(\"/content/gdrive/MyDrive/hackathon/data/ESConv/data_file1.csv\")"
      ]
    },
    {
      "cell_type": "code",
      "execution_count": null,
      "metadata": {
        "colab": {
          "base_uri": "https://localhost:8080/",
          "height": 423
        },
        "id": "EeHGstmdgyGI",
        "outputId": "8c595bfe-5e1d-4467-ec00-eaeed82a83cc"
      },
      "outputs": [
        {
          "data": {
            "text/html": [
              "\n",
              "  <div id=\"df-89654f49-d742-41bb-b55c-f77c6d3b640b\">\n",
              "    <div class=\"colab-df-container\">\n",
              "      <div>\n",
              "<style scoped>\n",
              "    .dataframe tbody tr th:only-of-type {\n",
              "        vertical-align: middle;\n",
              "    }\n",
              "\n",
              "    .dataframe tbody tr th {\n",
              "        vertical-align: top;\n",
              "    }\n",
              "\n",
              "    .dataframe thead th {\n",
              "        text-align: right;\n",
              "    }\n",
              "</style>\n",
              "<table border=\"1\" class=\"dataframe\">\n",
              "  <thead>\n",
              "    <tr style=\"text-align: right;\">\n",
              "      <th></th>\n",
              "      <th>personality</th>\n",
              "      <th>dialog</th>\n",
              "    </tr>\n",
              "  </thead>\n",
              "  <tbody>\n",
              "    <tr>\n",
              "      <th>0</th>\n",
              "      <td>NaN</td>\n",
              "      <td>[{'speaker': 'seeker', 'annotation': {}, 'cont...</td>\n",
              "    </tr>\n",
              "    <tr>\n",
              "      <th>1</th>\n",
              "      <td>NaN</td>\n",
              "      <td>[{'speaker': 'supporter', 'annotation': {'stra...</td>\n",
              "    </tr>\n",
              "    <tr>\n",
              "      <th>2</th>\n",
              "      <td>NaN</td>\n",
              "      <td>[{'speaker': 'supporter', 'annotation': {'stra...</td>\n",
              "    </tr>\n",
              "    <tr>\n",
              "      <th>3</th>\n",
              "      <td>NaN</td>\n",
              "      <td>[{'speaker': 'supporter', 'annotation': {'stra...</td>\n",
              "    </tr>\n",
              "    <tr>\n",
              "      <th>4</th>\n",
              "      <td>NaN</td>\n",
              "      <td>[{'speaker': 'supporter', 'annotation': {'stra...</td>\n",
              "    </tr>\n",
              "    <tr>\n",
              "      <th>...</th>\n",
              "      <td>...</td>\n",
              "      <td>...</td>\n",
              "    </tr>\n",
              "    <tr>\n",
              "      <th>1295</th>\n",
              "      <td>NaN</td>\n",
              "      <td>[{'speaker': 'supporter', 'annotation': {'stra...</td>\n",
              "    </tr>\n",
              "    <tr>\n",
              "      <th>1296</th>\n",
              "      <td>NaN</td>\n",
              "      <td>[{'speaker': 'supporter', 'annotation': {'stra...</td>\n",
              "    </tr>\n",
              "    <tr>\n",
              "      <th>1297</th>\n",
              "      <td>NaN</td>\n",
              "      <td>[{'speaker': 'seeker', 'annotation': {}, 'cont...</td>\n",
              "    </tr>\n",
              "    <tr>\n",
              "      <th>1298</th>\n",
              "      <td>NaN</td>\n",
              "      <td>[{'speaker': 'seeker', 'annotation': {}, 'cont...</td>\n",
              "    </tr>\n",
              "    <tr>\n",
              "      <th>1299</th>\n",
              "      <td>NaN</td>\n",
              "      <td>[{'speaker': 'supporter', 'annotation': {'stra...</td>\n",
              "    </tr>\n",
              "  </tbody>\n",
              "</table>\n",
              "<p>1300 rows × 2 columns</p>\n",
              "</div>\n",
              "      <button class=\"colab-df-convert\" onclick=\"convertToInteractive('df-89654f49-d742-41bb-b55c-f77c6d3b640b')\"\n",
              "              title=\"Convert this dataframe to an interactive table.\"\n",
              "              style=\"display:none;\">\n",
              "        \n",
              "  <svg xmlns=\"http://www.w3.org/2000/svg\" height=\"24px\"viewBox=\"0 0 24 24\"\n",
              "       width=\"24px\">\n",
              "    <path d=\"M0 0h24v24H0V0z\" fill=\"none\"/>\n",
              "    <path d=\"M18.56 5.44l.94 2.06.94-2.06 2.06-.94-2.06-.94-.94-2.06-.94 2.06-2.06.94zm-11 1L8.5 8.5l.94-2.06 2.06-.94-2.06-.94L8.5 2.5l-.94 2.06-2.06.94zm10 10l.94 2.06.94-2.06 2.06-.94-2.06-.94-.94-2.06-.94 2.06-2.06.94z\"/><path d=\"M17.41 7.96l-1.37-1.37c-.4-.4-.92-.59-1.43-.59-.52 0-1.04.2-1.43.59L10.3 9.45l-7.72 7.72c-.78.78-.78 2.05 0 2.83L4 21.41c.39.39.9.59 1.41.59.51 0 1.02-.2 1.41-.59l7.78-7.78 2.81-2.81c.8-.78.8-2.07 0-2.86zM5.41 20L4 18.59l7.72-7.72 1.47 1.35L5.41 20z\"/>\n",
              "  </svg>\n",
              "      </button>\n",
              "      \n",
              "  <style>\n",
              "    .colab-df-container {\n",
              "      display:flex;\n",
              "      flex-wrap:wrap;\n",
              "      gap: 12px;\n",
              "    }\n",
              "\n",
              "    .colab-df-convert {\n",
              "      background-color: #E8F0FE;\n",
              "      border: none;\n",
              "      border-radius: 50%;\n",
              "      cursor: pointer;\n",
              "      display: none;\n",
              "      fill: #1967D2;\n",
              "      height: 32px;\n",
              "      padding: 0 0 0 0;\n",
              "      width: 32px;\n",
              "    }\n",
              "\n",
              "    .colab-df-convert:hover {\n",
              "      background-color: #E2EBFA;\n",
              "      box-shadow: 0px 1px 2px rgba(60, 64, 67, 0.3), 0px 1px 3px 1px rgba(60, 64, 67, 0.15);\n",
              "      fill: #174EA6;\n",
              "    }\n",
              "\n",
              "    [theme=dark] .colab-df-convert {\n",
              "      background-color: #3B4455;\n",
              "      fill: #D2E3FC;\n",
              "    }\n",
              "\n",
              "    [theme=dark] .colab-df-convert:hover {\n",
              "      background-color: #434B5C;\n",
              "      box-shadow: 0px 1px 3px 1px rgba(0, 0, 0, 0.15);\n",
              "      filter: drop-shadow(0px 1px 2px rgba(0, 0, 0, 0.3));\n",
              "      fill: #FFFFFF;\n",
              "    }\n",
              "  </style>\n",
              "\n",
              "      <script>\n",
              "        const buttonEl =\n",
              "          document.querySelector('#df-89654f49-d742-41bb-b55c-f77c6d3b640b button.colab-df-convert');\n",
              "        buttonEl.style.display =\n",
              "          google.colab.kernel.accessAllowed ? 'block' : 'none';\n",
              "\n",
              "        async function convertToInteractive(key) {\n",
              "          const element = document.querySelector('#df-89654f49-d742-41bb-b55c-f77c6d3b640b');\n",
              "          const dataTable =\n",
              "            await google.colab.kernel.invokeFunction('convertToInteractive',\n",
              "                                                     [key], {});\n",
              "          if (!dataTable) return;\n",
              "\n",
              "          const docLinkHtml = 'Like what you see? Visit the ' +\n",
              "            '<a target=\"_blank\" href=https://colab.research.google.com/notebooks/data_table.ipynb>data table notebook</a>'\n",
              "            + ' to learn more about interactive tables.';\n",
              "          element.innerHTML = '';\n",
              "          dataTable['output_type'] = 'display_data';\n",
              "          await google.colab.output.renderOutput(dataTable, element);\n",
              "          const docLink = document.createElement('div');\n",
              "          docLink.innerHTML = docLinkHtml;\n",
              "          element.appendChild(docLink);\n",
              "        }\n",
              "      </script>\n",
              "    </div>\n",
              "  </div>\n",
              "  "
            ],
            "text/plain": [
              "      personality                                             dialog\n",
              "0             NaN  [{'speaker': 'seeker', 'annotation': {}, 'cont...\n",
              "1             NaN  [{'speaker': 'supporter', 'annotation': {'stra...\n",
              "2             NaN  [{'speaker': 'supporter', 'annotation': {'stra...\n",
              "3             NaN  [{'speaker': 'supporter', 'annotation': {'stra...\n",
              "4             NaN  [{'speaker': 'supporter', 'annotation': {'stra...\n",
              "...           ...                                                ...\n",
              "1295          NaN  [{'speaker': 'supporter', 'annotation': {'stra...\n",
              "1296          NaN  [{'speaker': 'supporter', 'annotation': {'stra...\n",
              "1297          NaN  [{'speaker': 'seeker', 'annotation': {}, 'cont...\n",
              "1298          NaN  [{'speaker': 'seeker', 'annotation': {}, 'cont...\n",
              "1299          NaN  [{'speaker': 'supporter', 'annotation': {'stra...\n",
              "\n",
              "[1300 rows x 2 columns]"
            ]
          },
          "execution_count": 15,
          "metadata": {},
          "output_type": "execute_result"
        }
      ],
      "source": [
        "data_file1"
      ]
    },
    {
      "cell_type": "code",
      "execution_count": null,
      "metadata": {
        "id": "eB2rnOmylf3y"
      },
      "outputs": [],
      "source": [
        "required_pattern_esconv_json = []\n",
        "for i in range(len(json_data)):\n",
        "  conversational_sample = {}\n",
        "  conversational_sample['personality'] = [\"\"]\n",
        "  utterances = []\n",
        "  seekers_utterances = []\n",
        "  supporters_utterances = []\n",
        "  count_dict = 0\n",
        "  sequence = []\n",
        "  for j in range(len(json_data[i]['dialog'])):\n",
        "    if(j%2==0):\n",
        "      utterances.append({})\n",
        "      count_dict += 1\n",
        "      utterances[count_dict-1]['candidate'] = []\n",
        "      utterances[count_dict-1]['history'] = []\n",
        "      if(count_dict>1):\n",
        "        utterances[count_dict-1]['history'] += sequence\n",
        "    if(json_data[i]['dialog'][j]['speaker']==\"seeker\"):\n",
        "      utterances[count_dict-1]['history'].append(json_data[i]['dialog'][j]['content'])\n",
        "      sequence.append(json_data[i]['dialog'][j]['content'])\n",
        "    else:\n",
        "      utterances[count_dict-1]['candidate'] = json_data[i]['dialog'][j]['content']\n",
        "      sequence.append(json_data[i]['dialog'][j]['content'])\n",
        "  conversational_sample['utterances'] = utterances\n",
        "  required_pattern_esconv_json.append(conversational_sample)"
      ]
    },
    {
      "cell_type": "code",
      "execution_count": null,
      "metadata": {
        "colab": {
          "background_save": true
        },
        "id": "T2KqeNWkuwI4"
      },
      "outputs": [],
      "source": [
        "required_pattern_esconv_json"
      ]
    },
    {
      "cell_type": "code",
      "execution_count": null,
      "metadata": {
        "id": "i2i5_q1mvtph"
      },
      "outputs": [],
      "source": [
        "/content/gdrive/MyDrive/hackathon/data/ESConv/ESConv.json"
      ]
    },
    {
      "cell_type": "code",
      "execution_count": 79,
      "metadata": {
        "id": "84i545qKHWX1"
      },
      "outputs": [],
      "source": [
        "with open('/content/gdrive/MyDrive/hackathon/data/ESConv/required_pattern_esconv_json.', 'w') as json_file:\n",
        "    json.dump(required_pattern_esconv_json, json_file)"
      ]
    },
    {
      "cell_type": "code",
      "source": [],
      "metadata": {
        "id": "THN4T7WuJf80"
      },
      "execution_count": null,
      "outputs": []
    }
  ],
  "metadata": {
    "colab": {
      "provenance": [],
      "authorship_tag": "ABX9TyO4NPaFXtzikojChx0GE682",
      "include_colab_link": true
    },
    "kernelspec": {
      "display_name": "Python 3",
      "name": "python3"
    },
    "language_info": {
      "name": "python"
    }
  },
  "nbformat": 4,
  "nbformat_minor": 0
}